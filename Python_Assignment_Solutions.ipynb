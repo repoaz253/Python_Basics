{
 "cells": [
  {
   "cell_type": "markdown",
   "id": "201803fb",
   "metadata": {},
   "source": [
    "### What is Python, and why is it popular\n",
    "Python is a high-level, interpreted programming language known for its simple syntax and readability. It is popular because of its versatility, large community, extensive libraries, and applicability in fields such as web development, data science, artificial intelligence, and automation."
   ]
  },
  {
   "cell_type": "markdown",
   "id": "75d3e01b",
   "metadata": {},
   "source": [
    "### What is an interpreter in Python\n",
    "An interpreter in Python is a program that reads and executes Python code line-by-line, converting it into machine code at runtime."
   ]
  },
  {
   "cell_type": "markdown",
   "id": "2a8bd0a3",
   "metadata": {},
   "source": [
    "### What are pre-defined keywords in Python\n",
    "Pre-defined keywords in Python are reserved words that have special meaning and cannot be used for variable names, such as `if`, `else`, `while`, `def`, and `class`."
   ]
  },
  {
   "cell_type": "markdown",
   "id": "e154fad7",
   "metadata": {},
   "source": [
    "### Can keywords be used as variable names\n",
    "No, keywords cannot be used as variable names in Python."
   ]
  },
  {
   "cell_type": "markdown",
   "id": "f6b6f69f",
   "metadata": {},
   "source": [
    "### What is mutability in Python\n",
    "Mutability refers to whether an object can be changed after it is created. Mutable objects can be changed, while immutable objects cannot."
   ]
  },
  {
   "cell_type": "markdown",
   "id": "bb090e8a",
   "metadata": {},
   "source": [
    "### Why are lists mutable, but tuples are immutable\n",
    "Lists are mutable because their contents can be changed without changing their identity. Tuples are immutable to ensure data integrity and allow their use as keys in dictionaries."
   ]
  },
  {
   "cell_type": "markdown",
   "id": "a0eb48cd",
   "metadata": {},
   "source": [
    "### What is the difference between '==' and 'is' operators in Python\n",
    "`==` checks if values of two variables are equal, while `is` checks if two variables point to the same object in memory."
   ]
  },
  {
   "cell_type": "markdown",
   "id": "a2b5565d",
   "metadata": {},
   "source": [
    "### What are logical operators in Python\n",
    "Logical operators in Python include `and`, `or`, and `not`. They are used to combine conditional statements."
   ]
  },
  {
   "cell_type": "markdown",
   "id": "2e11682c",
   "metadata": {},
   "source": [
    "### What is type casting in Python\n",
    "Type casting refers to converting a variable from one data type to another."
   ]
  },
  {
   "cell_type": "markdown",
   "id": "9444c23b",
   "metadata": {},
   "source": [
    "### What is the difference between implicit and explicit type casting\n",
    "Implicit casting is done automatically by Python, while explicit casting is done manually using functions like int(), float(), str(), etc."
   ]
  },
  {
   "cell_type": "markdown",
   "id": "65378131",
   "metadata": {},
   "source": [
    "### What is the purpose of conditional statements in Python\n",
    "Conditional statements allow the execution of certain blocks of code based on specified conditions."
   ]
  },
  {
   "cell_type": "markdown",
   "id": "238b5f89",
   "metadata": {},
   "source": [
    "### How does the elif statement work\n",
    "`elif` allows you to check multiple expressions for truth value and execute a block of code as soon as one condition is met."
   ]
  },
  {
   "cell_type": "markdown",
   "id": "0167f868",
   "metadata": {},
   "source": [
    "### What is the difference between for and while loops\n",
    "`for` loops are used when the number of iterations is known. `while` loops are used when the condition needs to be checked after every iteration."
   ]
  },
  {
   "cell_type": "markdown",
   "id": "4f99bf73",
   "metadata": {},
   "source": [
    "### Describe a scenario where a while loop is more suitable than a for loop.\n",
    "A while loop is more suitable when waiting for a user to enter valid input (e.g., a password) since the number of attempts is not predetermined."
   ]
  },
  {
   "cell_type": "markdown",
   "id": "02d87071",
   "metadata": {},
   "source": [
    "### Write a Python program to print 'Hello, World!'"
   ]
  },
  {
   "cell_type": "code",
   "execution_count": null,
   "id": "e6c9c87f",
   "metadata": {},
   "outputs": [],
   "source": [
    "print(\"Hello, World!\")"
   ]
  },
  {
   "cell_type": "markdown",
   "id": "49a27286",
   "metadata": {},
   "source": [
    "### Write a Python program that displays your name and age"
   ]
  },
  {
   "cell_type": "code",
   "execution_count": null,
   "id": "58022ffd",
   "metadata": {},
   "outputs": [],
   "source": [
    "name = \"John\"\n",
    "age = 25\n",
    "print(f\"My name is {name} and I am {age} years old.\")"
   ]
  },
  {
   "cell_type": "markdown",
   "id": "3528ef19",
   "metadata": {},
   "source": [
    "### Write code to print all the pre-defined keywords in Python using the keyword library"
   ]
  },
  {
   "cell_type": "code",
   "execution_count": null,
   "id": "99904b6a",
   "metadata": {},
   "outputs": [],
   "source": [
    "import keyword\n",
    "print(keyword.kwlist)"
   ]
  },
  {
   "cell_type": "markdown",
   "id": "fafaabbc",
   "metadata": {},
   "source": [
    "### Write a program that checks if a given word is a Python keyword."
   ]
  },
  {
   "cell_type": "code",
   "execution_count": null,
   "id": "92aaad1a",
   "metadata": {},
   "outputs": [],
   "source": [
    "import keyword\n",
    "word = input(\"Enter a word: \")\n",
    "if keyword.iskeyword(word):\n",
    "    print(f\"{word} is a Python keyword.\")\n",
    "else:\n",
    "    print(f\"{word} is not a Python keyword.\")"
   ]
  },
  {
   "cell_type": "markdown",
   "id": "3f40edc8",
   "metadata": {},
   "source": [
    "### Write a function to demonstrate the behavior of mutable and immutable arguments."
   ]
  },
  {
   "cell_type": "code",
   "execution_count": null,
   "id": "e3215060",
   "metadata": {},
   "outputs": [],
   "source": [
    "def modify_list(lst):\n",
    "    lst.append(100)\n",
    "    print(\"Inside function (list):\", lst)\n",
    "\n",
    "def modify_int(x):\n",
    "    x += 1\n",
    "    print(\"Inside function (int):\", x)\n",
    "\n",
    "my_list = [1, 2, 3]\n",
    "my_int = 10\n",
    "modify_list(my_list)\n",
    "print(\"Outside function (list):\", my_list)\n",
    "modify_int(my_int)\n",
    "print(\"Outside function (int):\", my_int)"
   ]
  },
  {
   "cell_type": "markdown",
   "id": "af60f875",
   "metadata": {},
   "source": [
    "### Write a program that performs basic arithmetic operations on two user-input numbers."
   ]
  },
  {
   "cell_type": "code",
   "execution_count": null,
   "id": "6812a2e3",
   "metadata": {},
   "outputs": [],
   "source": [
    "a = float(input(\"Enter first number: \"))\n",
    "b = float(input(\"Enter second number: \"))\n",
    "print(\"Addition:\", a + b)\n",
    "print(\"Subtraction:\", a - b)\n",
    "print(\"Multiplication:\", a * b)\n",
    "print(\"Division:\", a / b)"
   ]
  },
  {
   "cell_type": "markdown",
   "id": "e7f69341",
   "metadata": {},
   "source": [
    "### Write a program to demonstrate the use of logical operators."
   ]
  },
  {
   "cell_type": "code",
   "execution_count": null,
   "id": "a6a17501",
   "metadata": {},
   "outputs": [],
   "source": [
    "x = 10\n",
    "y = 20\n",
    "print(x > 5 and y < 30)\n",
    "print(x < 5 or y < 15)\n",
    "print(not(x > 5))"
   ]
  },
  {
   "cell_type": "markdown",
   "id": "2a2f737a",
   "metadata": {},
   "source": [
    "### Create a list and tuple in Python, and demonstrate how attempting to change an element works differently for each."
   ]
  },
  {
   "cell_type": "code",
   "execution_count": null,
   "id": "f5495c7b",
   "metadata": {},
   "outputs": [],
   "source": [
    "my_list = [1, 2, 3]\n",
    "my_tuple = (1, 2, 3)\n",
    "my_list[0] = 100\n",
    "print(\"Modified list:\", my_list)\n",
    "try:\n",
    "    my_tuple[0] = 100\n",
    "except TypeError as e:\n",
    "    print(\"Error modifying tuple:\", e)"
   ]
  },
  {
   "cell_type": "markdown",
   "id": "1450d136",
   "metadata": {},
   "source": [
    "### Write a Python program to convert user input from string to integer, float, and boolean types."
   ]
  },
  {
   "cell_type": "code",
   "execution_count": null,
   "id": "a4978cf0",
   "metadata": {},
   "outputs": [],
   "source": [
    "s = input(\"Enter a number: \")\n",
    "print(\"As integer:\", int(s))\n",
    "print(\"As float:\", float(s))\n",
    "print(\"As boolean:\", bool(s))"
   ]
  },
  {
   "cell_type": "markdown",
   "id": "b8196f20",
   "metadata": {},
   "source": [
    "### Write code to demonstrate type casting with list elements."
   ]
  },
  {
   "cell_type": "code",
   "execution_count": null,
   "id": "1379be22",
   "metadata": {},
   "outputs": [],
   "source": [
    "my_list = [\"1\", \"2\", \"3\"]\n",
    "int_list = list(map(int, my_list))\n",
    "print(\"Integer list:\", int_list)"
   ]
  },
  {
   "cell_type": "markdown",
   "id": "4ec137f7",
   "metadata": {},
   "source": [
    "### Write a program that checks if a number is positive, negative, or zero."
   ]
  },
  {
   "cell_type": "code",
   "execution_count": null,
   "id": "8514df50",
   "metadata": {},
   "outputs": [],
   "source": [
    "num = float(input(\"Enter a number: \"))\n",
    "if num > 0:\n",
    "    print(\"Positive\")\n",
    "elif num < 0:\n",
    "    print(\"Negative\")\n",
    "else:\n",
    "    print(\"Zero\")"
   ]
  },
  {
   "cell_type": "markdown",
   "id": "c0c914d1",
   "metadata": {},
   "source": [
    "### Write a for loop to print numbers from 1 to 10."
   ]
  },
  {
   "cell_type": "code",
   "execution_count": null,
   "id": "c2fde3c5",
   "metadata": {},
   "outputs": [],
   "source": [
    "for i in range(1, 11):\n",
    "    print(i)"
   ]
  },
  {
   "cell_type": "markdown",
   "id": "136a24ce",
   "metadata": {},
   "source": [
    "### Write a Python program to find the sum of all even numbers between 1 and 50."
   ]
  },
  {
   "cell_type": "code",
   "execution_count": null,
   "id": "be1fdc0c",
   "metadata": {},
   "outputs": [],
   "source": [
    "print(sum(i for i in range(1, 51) if i % 2 == 0))"
   ]
  },
  {
   "cell_type": "markdown",
   "id": "db5c1d65",
   "metadata": {},
   "source": [
    "### Write a program to reverse a string using a while loop."
   ]
  },
  {
   "cell_type": "code",
   "execution_count": null,
   "id": "7af2d4c5",
   "metadata": {},
   "outputs": [],
   "source": [
    "s = input(\"Enter a string: \")\n",
    "reversed_str = \"\"\n",
    "i = len(s) - 1\n",
    "while i >= 0:\n",
    "    reversed_str += s[i]\n",
    "    i -= 1\n",
    "print(\"Reversed string:\", reversed_str)"
   ]
  },
  {
   "cell_type": "markdown",
   "id": "016df0ca",
   "metadata": {},
   "source": [
    "### Write a Python program to calculate the factorial of a number provided by the user using a while loop."
   ]
  },
  {
   "cell_type": "code",
   "execution_count": null,
   "id": "3e53ab5b",
   "metadata": {},
   "outputs": [],
   "source": [
    "num = int(input(\"Enter a number: \"))\n",
    "fact = 1\n",
    "i = 1\n",
    "while i <= num:\n",
    "    fact *= i\n",
    "    i += 1\n",
    "print(\"Factorial:\", fact)"
   ]
  }
 ],
 "metadata": {},
 "nbformat": 4,
 "nbformat_minor": 5
}